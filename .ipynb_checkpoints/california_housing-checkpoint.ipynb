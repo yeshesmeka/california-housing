{
 "cells": [
  {
   "cell_type": "markdown",
   "metadata": {},
   "source": [
    "# California House Pricing Prediction"
   ]
  },
  {
   "cell_type": "markdown",
   "metadata": {},
   "source": [
    "## Imports"
   ]
  },
  {
   "cell_type": "code",
   "execution_count": null,
   "metadata": {},
   "outputs": [],
   "source": [
    "import pandas as pd\n",
    "import numpy as np\n",
    "import matplotlib.pyplot as plt\n",
    "%matplotlib inline \n",
    "import seaborn as sns\n",
    "\n",
    "from sklearn.datasets import fetch_california_housing\n",
    "from sklearn.model_selection import train_test_split\n",
    "from sklearn.metrics import accuracy_score, r2_score\n",
    "from sklearn.model_selection import KFold, cross_val_score\n",
    "from sklearn.preprocessing import StandardScaler\n",
    "\n",
    "from sklearn.linear_model import LinearRegression\n",
    "from sklearn.tree import DecisionTreeRegressor\n",
    "from sklearn.ensemble import RandomForestRegressor\n",
    "from sklearn.svm import SVR"
   ]
  },
  {
   "cell_type": "markdown",
   "metadata": {},
   "source": [
    "## Dataset Import"
   ]
  },
  {
   "cell_type": "code",
   "execution_count": null,
   "metadata": {},
   "outputs": [],
   "source": [
    "dataset = fetch_california_housing()"
   ]
  },
  {
   "cell_type": "code",
   "execution_count": null,
   "metadata": {},
   "outputs": [],
   "source": [
    "data = pd.DataFrame(dataset.data, columns=dataset.feature_names)"
   ]
  },
  {
   "cell_type": "code",
   "execution_count": null,
   "metadata": {},
   "outputs": [],
   "source": [
    "data.head()"
   ]
  },
  {
   "cell_type": "code",
   "execution_count": null,
   "metadata": {},
   "outputs": [],
   "source": [
    "data['Price'] = dataset.target"
   ]
  },
  {
   "cell_type": "code",
   "execution_count": null,
   "metadata": {},
   "outputs": [],
   "source": [
    "data.head()"
   ]
  },
  {
   "cell_type": "code",
   "execution_count": null,
   "metadata": {},
   "outputs": [],
   "source": [
    "data.info()"
   ]
  },
  {
   "cell_type": "markdown",
   "metadata": {},
   "source": [
    "## EDA"
   ]
  },
  {
   "cell_type": "code",
   "execution_count": null,
   "metadata": {},
   "outputs": [],
   "source": [
    "data.corr()"
   ]
  },
  {
   "cell_type": "code",
   "execution_count": null,
   "metadata": {},
   "outputs": [],
   "source": [
    "data.columns"
   ]
  },
  {
   "cell_type": "code",
   "execution_count": null,
   "metadata": {},
   "outputs": [],
   "source": [
    "plt.figure(figsize=[15,20])\n",
    "sns.pairplot(data, x_vars=['Price', 'MedInc', 'HouseAge', 'AveRooms', 'AveBedrms', 'Population', 'AveOccup', 'Latitude', 'Longitude'], \n",
    "             y_vars=['Price'], diag_kind='hist')\n",
    "plt.rcParams[\"axes.labelsize\"] = 12\n",
    "plt.show()"
   ]
  },
  {
   "cell_type": "code",
   "execution_count": null,
   "metadata": {},
   "outputs": [],
   "source": [
    "sns.pairplot(data, corner=True, kind='reg', plot_kws={'line_kws':{'color':'red'}, 'alpha':0.6})"
   ]
  },
  {
   "cell_type": "markdown",
   "metadata": {},
   "source": [
    "## Data - Features & Target"
   ]
  },
  {
   "cell_type": "code",
   "execution_count": null,
   "metadata": {},
   "outputs": [],
   "source": [
    "X = data.iloc[:, :-1]\n",
    "y = data.iloc[:, -1]"
   ]
  },
  {
   "cell_type": "markdown",
   "metadata": {},
   "source": [
    "## Model Building"
   ]
  },
  {
   "cell_type": "markdown",
   "metadata": {},
   "source": [
    "### Multiple Linear Regression"
   ]
  },
  {
   "cell_type": "code",
   "execution_count": null,
   "metadata": {},
   "outputs": [],
   "source": [
    "np.array([X.iloc[0, :]]).shape"
   ]
  },
  {
   "cell_type": "code",
   "execution_count": null,
   "metadata": {},
   "outputs": [],
   "source": [
    "# Multiple Linear Regression with all features included\n",
    "\n",
    "ml_regr = LinearRegression()\n",
    "ml_regr.fit(X, y)\n",
    "y_pred = ml_regr.predict(np.expand_dims(X.iloc[1, :], axis=0))\n",
    "\n",
    "print('Predicted Price: ', y_pred[0])\n",
    "print('Actual Price: ', y[1])\n",
    "\n",
    "\n",
    "\n",
    "# score = ml_regr.score(X_test, y_test)\n",
    "# print('Test R-Squared: ', score)\n",
    "score_train = ml_regr.score(X, y)\n",
    "print('Train R-Squared: ', score_train)"
   ]
  },
  {
   "cell_type": "code",
   "execution_count": null,
   "metadata": {},
   "outputs": [],
   "source": [
    "features_ml_regr = ['MedInc', 'HouseAge', 'AveRooms', 'Population', 'AveOccup',\n",
    "       'Latitude', 'Longitude']\n",
    "X_features = X[features_ml_regr]"
   ]
  },
  {
   "cell_type": "code",
   "execution_count": null,
   "metadata": {},
   "outputs": [],
   "source": [
    "# Multiple Linear Regression with one of the features with multi-colinearity excluded\n",
    "\n",
    "X_features = X[features_ml_regr]\n",
    "ml_regr = LinearRegression()\n",
    "ml_regr.fit(X_features, y)\n",
    "y_pred = ml_regr.predict(np.expand_dims(X_features.iloc[1, :], axis=0))\n",
    "\n",
    "print('Predicted Price: ', y_pred[0])\n",
    "print('Actual Price: ', y[1])\n",
    "\n",
    "\n",
    "\n",
    "# score = ml_regr.score(X_test, y_test)\n",
    "# print('Test R-Squared: ', score)\n",
    "score_train = ml_regr.score(X_features, y)\n",
    "print('Train R-Squared: ', score_train)"
   ]
  },
  {
   "cell_type": "markdown",
   "metadata": {},
   "source": [
    "### Decision Tree Regression"
   ]
  },
  {
   "cell_type": "code",
   "execution_count": null,
   "metadata": {},
   "outputs": [],
   "source": [
    "# Decision Tree Regression with all features included\n",
    "dt_regr = DecisionTreeRegressor(random_state=42)\n",
    "\n",
    "dt_regr.fit(X, y)\n",
    "y_pred = dt_regr.predict(np.expand_dims(X.iloc[1, :], axis=0))\n",
    "\n",
    "print('Predicted Price: ', y_pred[0])\n",
    "print('Actual Price: ', y[1])\n",
    "score_train = dt_regr.score(X, y)\n",
    "print('Train R-Squared: ', score_train)"
   ]
  },
  {
   "cell_type": "code",
   "execution_count": null,
   "metadata": {},
   "outputs": [],
   "source": [
    "# Decision Tree Regression with one of the features with multi-colinearity excluded\n",
    "dt_regr = DecisionTreeRegressor(random_state=42)\n",
    "\n",
    "dt_regr.fit(X_features, y)\n",
    "y_pred = dt_regr.predict(np.expand_dims(X_features.iloc[1, :], axis=0))\n",
    "\n",
    "print('Predicted Price: ', y_pred[0])\n",
    "print('Actual Price: ', y[1])\n",
    "score_train = dt_regr.score(X_features, y)\n",
    "print('Train R-Squared: ', score_train)"
   ]
  },
  {
   "cell_type": "markdown",
   "metadata": {},
   "source": [
    "### Random Forest Regression"
   ]
  },
  {
   "cell_type": "code",
   "execution_count": null,
   "metadata": {},
   "outputs": [],
   "source": [
    "# Random Forest Regression with all features included\n",
    "rf_regr = RandomForestRegressor(n_estimators=100, random_state=42)\n",
    "\n",
    "rf_regr.fit(X, y)\n",
    "y_pred = rf_regr.predict(np.expand_dims(X.iloc[1, :], axis=0))\n",
    "\n",
    "print('Predicted Price: ', y_pred[0])\n",
    "print('Actual Price: ', y[1])\n",
    "score_train = rf_regr.score(X, y)\n",
    "print('Train R-Squared: ', score_train)"
   ]
  },
  {
   "cell_type": "code",
   "execution_count": null,
   "metadata": {},
   "outputs": [],
   "source": [
    "# Random Forest Regression with one of the features with multi-colinearity excluded\n",
    "rf_regr = RandomForestRegressor(n_estimators=100, random_state=42)\n",
    "\n",
    "rf_regr.fit(X_features, y)\n",
    "y_pred = rf_regr.predict(np.expand_dims(X_features.iloc[1, :], axis=0))\n",
    "\n",
    "print('Predicted Price: ', y_pred[0])\n",
    "print('Actual Price: ', y[1])\n",
    "score_train = rf_regr.score(X_features, y)\n",
    "print('Train R-Squared: ', score_train)"
   ]
  },
  {
   "cell_type": "markdown",
   "metadata": {},
   "source": [
    "### Support Vector Regression"
   ]
  },
  {
   "cell_type": "code",
   "execution_count": null,
   "metadata": {},
   "outputs": [],
   "source": [
    "#Feature Scaling\n",
    "sc_X = StandardScaler()\n",
    "sc_y = StandardScaler()\n",
    "\n",
    "X_train_scaled = sc_X.fit_transform(X)\n",
    "y_train_scaled = sc_y.fit_transform(np.expand_dims(y, axis=0))\n",
    "\n",
    "# X_test_scaled = sc_X.transform(X_test)\n",
    "# y_test_scaled = sc_y.transform(np.expand_dims(y_test, axis=0))"
   ]
  },
  {
   "cell_type": "markdown",
   "metadata": {},
   "source": [
    "#### Linear Kernel"
   ]
  },
  {
   "cell_type": "code",
   "execution_count": null,
   "metadata": {},
   "outputs": [],
   "source": [
    "# Support Vector Regression with linear kernel and all features included\n",
    "svr_regr = SVR(kernel='linear')\n",
    "svr_regr.fit(X, y)\n",
    "\n",
    "y_pred = svr_regr.predict(np.expand_dims(X.iloc[1, :], axis=0))\n",
    "\n",
    "print('Predicted Price: ', sc_y.inverse_transform(y_pred[0]))\n",
    "print('Actual Price: ', y[1])\n",
    "score_train = svr_regr.score(X_train_scaled, y_train_scaled)\n",
    "print('Train R-Squared: ', score_train)\n",
    "\n",
    "# score = svr_regr.score(X_test, y_test)\n",
    "# print('Test R-Squared: ', score)\n",
    "# score_train = svr_regr.score(X_train, y_train)\n",
    "# print('Train R-Squared: ', score_train)"
   ]
  },
  {
   "cell_type": "markdown",
   "metadata": {},
   "source": [
    "#### Non-Linear Kernel"
   ]
  },
  {
   "cell_type": "code",
   "execution_count": null,
   "metadata": {},
   "outputs": [],
   "source": [
    "# Support Vector Regression with non-linear kernel and all features included\n",
    "svr_nl_regr = SVR(kernel='rbf')\n",
    "svr_nl_regr.fit(X, y)\n",
    "\n",
    "y_pred = svr_nl_regr.predict(np.expand_dims(X.iloc[1, :], axis=0))\n",
    "\n",
    "print('Predicted Price: ', sc_y.inverse_transform(y_pred[0]))\n",
    "print('Actual Price: ', y[1])\n",
    "score_train = svr_nl_regr.score(X_train_scaled, y_train_scaled)\n",
    "print('Train R-Squared: ', score_train)\n",
    "\n",
    "# score = svr_regr.score(X_test, y_test)\n",
    "# print('Test R-Squared: ', score)\n",
    "# score_train = svr_regr.score(X_train, y_train)\n",
    "# print('Train R-Squared: ', score_train)"
   ]
  },
  {
   "cell_type": "code",
   "execution_count": null,
   "metadata": {},
   "outputs": [],
   "source": []
  }
 ],
 "metadata": {
  "kernelspec": {
   "display_name": "Python 3",
   "language": "python",
   "name": "python3"
  },
  "language_info": {
   "codemirror_mode": {
    "name": "ipython",
    "version": 3
   },
   "file_extension": ".py",
   "mimetype": "text/x-python",
   "name": "python",
   "nbconvert_exporter": "python",
   "pygments_lexer": "ipython3",
   "version": "3.8.2"
  }
 },
 "nbformat": 4,
 "nbformat_minor": 4
}
